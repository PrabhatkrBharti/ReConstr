{
  "nbformat": 4,
  "nbformat_minor": 0,
  "metadata": {
    "colab": {
      "name": "interannotation_agreement.ipynb",
      "provenance": [],
      "collapsed_sections": []
    },
    "kernelspec": {
      "name": "python3",
      "display_name": "Python 3"
    },
    "language_info": {
      "name": "python"
    }
  },
  "cells": [
    {
      "cell_type": "code",
      "source": [
        "# mount google drive (not necessary)\n",
        "from google.colab import drive\n",
        "drive.mount('/content/drive')\n",
        "%cd /content/drive/MyDrive/ML/innovation_lab/inter-annotational agreement"
      ],
      "metadata": {
        "colab": {
          "base_uri": "https://localhost:8080/"
        },
        "id": "eVGuok5GJ2Rq",
        "outputId": "3506a0d8-9071-4283-cbc2-30a6f61aaae2"
      },
      "execution_count": 1,
      "outputs": [
        {
          "output_type": "stream",
          "name": "stdout",
          "text": [
            "Mounted at /content/drive\n",
            "/content/drive/MyDrive/ML/innovation_lab/inter-annotational agreement\n"
          ]
        }
      ]
    },
    {
      "cell_type": "code",
      "source": [
        "#load annotation file\n",
        "import pandas as pd\n",
        "df= pd.read_excel('Kappa statistics.xlsx')   #put your annotation file path\n",
        "df.head()"
      ],
      "metadata": {
        "colab": {
          "base_uri": "https://localhost:8080/",
          "height": 206
        },
        "id": "7k7mSdbZqyI_",
        "outputId": "1a660e54-8cb8-43b7-9994-a3bea1aa2112"
      },
      "execution_count": 2,
      "outputs": [
        {
          "output_type": "execute_result",
          "data": {
            "text/plain": [
              "                                        Reviews Text  \\\n",
              "0  I don't see how your approach has potential to...   \n",
              "1  It is a bit strange for me that authors have u...   \n",
              "2  The paper could be considered for acceptance g...   \n",
              "3  Reviewer 2: The proposal is also poorly writte...   \n",
              "4  The scientific contribution of this paper - if...   \n",
              "\n",
              "  Constructive/ Non-constructive (Annotator A)  \\\n",
              "0                                            N   \n",
              "1                                            C   \n",
              "2                                            C   \n",
              "3                                            N   \n",
              "4                                            N   \n",
              "\n",
              "  Constructive/Non-Constructive(Annotator B)  \n",
              "0                                          N  \n",
              "1                                          C  \n",
              "2                                          C  \n",
              "3                                          N  \n",
              "4                                          N  "
            ],
            "text/html": [
              "\n",
              "  <div id=\"df-ec5fdafc-597d-456b-a430-a6681ba9b93d\">\n",
              "    <div class=\"colab-df-container\">\n",
              "      <div>\n",
              "<style scoped>\n",
              "    .dataframe tbody tr th:only-of-type {\n",
              "        vertical-align: middle;\n",
              "    }\n",
              "\n",
              "    .dataframe tbody tr th {\n",
              "        vertical-align: top;\n",
              "    }\n",
              "\n",
              "    .dataframe thead th {\n",
              "        text-align: right;\n",
              "    }\n",
              "</style>\n",
              "<table border=\"1\" class=\"dataframe\">\n",
              "  <thead>\n",
              "    <tr style=\"text-align: right;\">\n",
              "      <th></th>\n",
              "      <th>Reviews Text</th>\n",
              "      <th>Constructive/ Non-constructive (Annotator A)</th>\n",
              "      <th>Constructive/Non-Constructive(Annotator B)</th>\n",
              "    </tr>\n",
              "  </thead>\n",
              "  <tbody>\n",
              "    <tr>\n",
              "      <th>0</th>\n",
              "      <td>I don't see how your approach has potential to...</td>\n",
              "      <td>N</td>\n",
              "      <td>N</td>\n",
              "    </tr>\n",
              "    <tr>\n",
              "      <th>1</th>\n",
              "      <td>It is a bit strange for me that authors have u...</td>\n",
              "      <td>C</td>\n",
              "      <td>C</td>\n",
              "    </tr>\n",
              "    <tr>\n",
              "      <th>2</th>\n",
              "      <td>The paper could be considered for acceptance g...</td>\n",
              "      <td>C</td>\n",
              "      <td>C</td>\n",
              "    </tr>\n",
              "    <tr>\n",
              "      <th>3</th>\n",
              "      <td>Reviewer 2: The proposal is also poorly writte...</td>\n",
              "      <td>N</td>\n",
              "      <td>N</td>\n",
              "    </tr>\n",
              "    <tr>\n",
              "      <th>4</th>\n",
              "      <td>The scientific contribution of this paper - if...</td>\n",
              "      <td>N</td>\n",
              "      <td>N</td>\n",
              "    </tr>\n",
              "  </tbody>\n",
              "</table>\n",
              "</div>\n",
              "      <button class=\"colab-df-convert\" onclick=\"convertToInteractive('df-ec5fdafc-597d-456b-a430-a6681ba9b93d')\"\n",
              "              title=\"Convert this dataframe to an interactive table.\"\n",
              "              style=\"display:none;\">\n",
              "        \n",
              "  <svg xmlns=\"http://www.w3.org/2000/svg\" height=\"24px\"viewBox=\"0 0 24 24\"\n",
              "       width=\"24px\">\n",
              "    <path d=\"M0 0h24v24H0V0z\" fill=\"none\"/>\n",
              "    <path d=\"M18.56 5.44l.94 2.06.94-2.06 2.06-.94-2.06-.94-.94-2.06-.94 2.06-2.06.94zm-11 1L8.5 8.5l.94-2.06 2.06-.94-2.06-.94L8.5 2.5l-.94 2.06-2.06.94zm10 10l.94 2.06.94-2.06 2.06-.94-2.06-.94-.94-2.06-.94 2.06-2.06.94z\"/><path d=\"M17.41 7.96l-1.37-1.37c-.4-.4-.92-.59-1.43-.59-.52 0-1.04.2-1.43.59L10.3 9.45l-7.72 7.72c-.78.78-.78 2.05 0 2.83L4 21.41c.39.39.9.59 1.41.59.51 0 1.02-.2 1.41-.59l7.78-7.78 2.81-2.81c.8-.78.8-2.07 0-2.86zM5.41 20L4 18.59l7.72-7.72 1.47 1.35L5.41 20z\"/>\n",
              "  </svg>\n",
              "      </button>\n",
              "      \n",
              "  <style>\n",
              "    .colab-df-container {\n",
              "      display:flex;\n",
              "      flex-wrap:wrap;\n",
              "      gap: 12px;\n",
              "    }\n",
              "\n",
              "    .colab-df-convert {\n",
              "      background-color: #E8F0FE;\n",
              "      border: none;\n",
              "      border-radius: 50%;\n",
              "      cursor: pointer;\n",
              "      display: none;\n",
              "      fill: #1967D2;\n",
              "      height: 32px;\n",
              "      padding: 0 0 0 0;\n",
              "      width: 32px;\n",
              "    }\n",
              "\n",
              "    .colab-df-convert:hover {\n",
              "      background-color: #E2EBFA;\n",
              "      box-shadow: 0px 1px 2px rgba(60, 64, 67, 0.3), 0px 1px 3px 1px rgba(60, 64, 67, 0.15);\n",
              "      fill: #174EA6;\n",
              "    }\n",
              "\n",
              "    [theme=dark] .colab-df-convert {\n",
              "      background-color: #3B4455;\n",
              "      fill: #D2E3FC;\n",
              "    }\n",
              "\n",
              "    [theme=dark] .colab-df-convert:hover {\n",
              "      background-color: #434B5C;\n",
              "      box-shadow: 0px 1px 3px 1px rgba(0, 0, 0, 0.15);\n",
              "      filter: drop-shadow(0px 1px 2px rgba(0, 0, 0, 0.3));\n",
              "      fill: #FFFFFF;\n",
              "    }\n",
              "  </style>\n",
              "\n",
              "      <script>\n",
              "        const buttonEl =\n",
              "          document.querySelector('#df-ec5fdafc-597d-456b-a430-a6681ba9b93d button.colab-df-convert');\n",
              "        buttonEl.style.display =\n",
              "          google.colab.kernel.accessAllowed ? 'block' : 'none';\n",
              "\n",
              "        async function convertToInteractive(key) {\n",
              "          const element = document.querySelector('#df-ec5fdafc-597d-456b-a430-a6681ba9b93d');\n",
              "          const dataTable =\n",
              "            await google.colab.kernel.invokeFunction('convertToInteractive',\n",
              "                                                     [key], {});\n",
              "          if (!dataTable) return;\n",
              "\n",
              "          const docLinkHtml = 'Like what you see? Visit the ' +\n",
              "            '<a target=\"_blank\" href=https://colab.research.google.com/notebooks/data_table.ipynb>data table notebook</a>'\n",
              "            + ' to learn more about interactive tables.';\n",
              "          element.innerHTML = '';\n",
              "          dataTable['output_type'] = 'display_data';\n",
              "          await google.colab.output.renderOutput(dataTable, element);\n",
              "          const docLink = document.createElement('div');\n",
              "          docLink.innerHTML = docLinkHtml;\n",
              "          element.appendChild(docLink);\n",
              "        }\n",
              "      </script>\n",
              "    </div>\n",
              "  </div>\n",
              "  "
            ]
          },
          "metadata": {},
          "execution_count": 2
        }
      ]
    },
    {
      "cell_type": "code",
      "source": [
        "tag1= list (df['Constructive/ Non-constructive (Annotator A)'])\n",
        "tag2= list (df['Constructive/Non-Constructive(Annotator B)'])\n",
        "for i in range(0,len(df['Constructive/Non-Constructive(Annotator B)'])):\n",
        "  if (tag2[i] in tag1[i].split(',')):\n",
        "    tag1[i] = tag2[i] \n",
        "  else:\n",
        "    tag1[i]= (tag1[i].split(','))[0]"
      ],
      "metadata": {
        "id": "h4h2HK8UrBcp"
      },
      "execution_count": 3,
      "outputs": []
    },
    {
      "cell_type": "code",
      "source": [
        "#Cohen-kappa score\n",
        "from sklearn.metrics import confusion_matrix, cohen_kappa_score\n",
        "\n",
        "print(\"\\nCohen-kappa inter-annotational agreement score :\")\n",
        "cohen_kappa_score(tag1, tag2)"
      ],
      "metadata": {
        "colab": {
          "base_uri": "https://localhost:8080/"
        },
        "id": "nPQDH71UtAlS",
        "outputId": "ceba09cf-fb5c-4b97-dbf5-0861488a38c4"
      },
      "execution_count": 4,
      "outputs": [
        {
          "output_type": "stream",
          "name": "stdout",
          "text": [
            "\n",
            "Cohen-kappa inter-annotational agreement score :\n"
          ]
        },
        {
          "output_type": "execute_result",
          "data": {
            "text/plain": [
              "0.9332523489067103"
            ]
          },
          "metadata": {},
          "execution_count": 4
        }
      ]
    },
    {
      "cell_type": "code",
      "source": [
        "#Krippendorff-alpha score\n",
        "!pip install krippendorff\n",
        "import krippendorff\n",
        "data = [tag1,tag2]    \n",
        "from sklearn import preprocessing\n",
        "le = preprocessing.LabelEncoder()\n",
        "le.fit(tag1)\n",
        "d1 = le.transform(tag1)\n",
        "le.fit(tag2)\n",
        "d2 = le.transform(tag2)\n",
        "kappa = krippendorff.alpha([d1,d2])\n",
        "\n",
        "print(\"\\nKrippendorff-alpha interannotational agreement score :\")\n",
        "print(kappa)"
      ],
      "metadata": {
        "colab": {
          "base_uri": "https://localhost:8080/"
        },
        "id": "FSSKe9Crtwda",
        "outputId": "37905b1e-0f36-4cb1-f075-a175b2ef5630"
      },
      "execution_count": 5,
      "outputs": [
        {
          "output_type": "stream",
          "name": "stdout",
          "text": [
            "Looking in indexes: https://pypi.org/simple, https://us-python.pkg.dev/colab-wheels/public/simple/\n",
            "Collecting krippendorff\n",
            "  Downloading krippendorff-0.5.1-py3-none-any.whl (17 kB)\n",
            "Requirement already satisfied: numpy in /usr/local/lib/python3.7/dist-packages (from krippendorff) (1.21.6)\n",
            "Installing collected packages: krippendorff\n",
            "Successfully installed krippendorff-0.5.1\n",
            "\n",
            "Krippendorff-alpha interannotational agreement score :\n",
            "0.9332670179589203\n"
          ]
        }
      ]
    }
  ]
}